{
 "cells": [
  {
   "cell_type": "code",
   "execution_count": 1,
   "metadata": {},
   "outputs": [],
   "source": [
    "import sys,os,time\n",
    "\n",
    "import tables as tb\n",
    "import yaml\n",
    "import numpy as np\n",
    "from matplotlib import colors\n",
    "norm = colors.LogNorm()\n",
    "import matplotlib.pyplot as plt\n",
    "\n",
    "import tjmonopix.tjmonopix\n",
    "import tjmonopix.scans.source_scan as source_scan\n",
    "import tjmonopix.scans.th_scan as th_scan\n",
    "\n",
    "DUtoe=20"
   ]
  },
  {
   "cell_type": "code",
   "execution_count": 2,
   "metadata": {},
   "outputs": [
    {
     "name": "stderr",
     "output_type": "stream",
     "text": [
      "2022-03-29 18:18:18,440 [INFO ] (MainThread) GPAC: power reset\n",
      "2022-03-29 18:18:20,221 [INFO ] (MainThread) Found adapter card: General Purpose Analog Card (GPAC) with ID 3\n",
      "2022-03-29 18:18:20,460 [INFO ] (MainThread) Found board 0 running firmware version 0.0\n",
      "2022-03-29 18:18:20,707 [INFO ] (MainThread) ibias = 45\n",
      "2022-03-29 18:18:20,723 [INFO ] (MainThread) ibias = 503.125 nA\n",
      "2022-03-29 18:18:21,325 [INFO ] (MainThread) {'VPC [V]': 1.2998506463536463, 'VDDA_DAC [mA]': 2.502471747485684, 'VDDP [V]': 1.8059798142570278, 'VDDP OC': False, 'VDDA [mA]': 50.151368865825674, 'VDDD [V]': 1.8015140363636364, 'VDDA_DAC OC': False, 'VDDD [mA]': 2.820288999038665e-08, 'VPCSWSF [V]': 0.5001542395802099, 'VDDP [mA]': 128.39714805315754, 'BiasSF [V]': 1.0622801785996314, 'VDDD OC': False, 'VPC [mA]': -0.00749996165553893, 'VPCSWSF [mA]': 0.08904418937449507, 'VDDA [V]': 1.8058565495495498, 'VDDA OC': False, 'VDDA_DAC [V]': 1.8045472377622378, 'BiasSF [mA]': 0.10109892318840588}\n"
     ]
    }
   ],
   "source": [
    "#HV 2 V, psub,well = -6V \n",
    "#\n",
    "chip=tjmonopix.tjmonopix.TJMonoPix(conf=\"../tjmonopix/tjmonopix_mio3.yaml\",no_power_reset=False) #con la configurazione settata da errore. Controllare se le configurazioni sono le stesse\n",
    "#vecchia conf: /home/user/workspace/tjmonopix/tjmonopix_30/tjmonopix/tjmonopix_mio3.yaml\"\n",
    "chip.init(fl=\"EN_PMOS\")  # Default EN_PMOS\n"
   ]
  },
  {
   "cell_type": "code",
   "execution_count": 3,
   "metadata": {},
   "outputs": [
    {
     "name": "stderr",
     "output_type": "stream",
     "text": [
      "2022-03-29 18:18:28,911 [INFO ] (MainThread) Temperature (C): 30.070093\n",
      "2022-03-29 18:18:28,966 [INFO ] (MainThread) Temperature (C): 30.070093\n",
      "2022-03-29 18:18:29,029 [INFO ] (MainThread) Temperature (C): 30.070093\n",
      "2022-03-29 18:18:29,081 [INFO ] (MainThread) Temperature (C): 30.232379\n",
      "2022-03-29 18:18:29,144 [INFO ] (MainThread) Temperature (C): 30.251868\n",
      "2022-03-29 18:18:29,213 [INFO ] (MainThread) Temperature (C): 30.271373\n",
      "2022-03-29 18:18:29,266 [INFO ] (MainThread) Temperature (C): 30.070093\n",
      "2022-03-29 18:18:29,319 [INFO ] (MainThread) Temperature (C): 30.251868\n",
      "2022-03-29 18:18:29,381 [INFO ] (MainThread) Temperature (C): 30.089562\n",
      "2022-03-29 18:18:29,447 [INFO ] (MainThread) Temperature (C): 30.070093\n",
      "2022-03-29 18:18:29,467 [INFO ] (MainThread) ibias = 45\n",
      "2022-03-29 18:18:29,482 [INFO ] (MainThread) ibias = 503.125 nA\n"
     ]
    }
   ],
   "source": [
    "chip.get_temperature()\n",
    "\n",
    "# reset configuration\n",
    "chip.default_conf()\n",
    "chip.reset_ibias()"
   ]
  },
  {
   "cell_type": "code",
   "execution_count": 13,
   "metadata": {},
   "outputs": [
    {
     "name": "stderr",
     "output_type": "stream",
     "text": [
      "2022-03-29 18:24:28,951 [INFO ] (MainThread) vreset = 1.1644488189V\n",
      "2022-03-29 18:24:28,967 [INFO ] (MainThread) icasn = 0\n",
      "2022-03-29 18:24:28,983 [INFO ] (MainThread) icasn = 4.375 nA\n",
      "2022-03-29 18:24:29,005 [INFO ] (MainThread) ireset = 2 low leakage mode\n",
      "2022-03-29 18:24:29,020 [INFO ] (MainThread) ireset = 0.001025390625nA, low leakage mode\n",
      "2022-03-29 18:24:29,036 [INFO ] (MainThread) ithr = 10\n",
      "2022-03-29 18:24:29,052 [INFO ] (MainThread) ithr = 1.50390625 nA\n",
      "2022-03-29 18:24:29,068 [INFO ] (MainThread) idb = 20\n",
      "2022-03-29 18:24:29,082 [INFO ] (MainThread) idb = 367.5 nA\n",
      "2022-03-29 18:24:29,105 [INFO ] (MainThread) ibias = 45\n",
      "2022-03-29 18:24:29,121 [INFO ] (MainThread) ibias = 503.125 nA\n"
     ]
    }
   ],
   "source": [
    "####### CONFIGURE THE FRONT END ######\n",
    "# INPUT baseline\n",
    "chip.set_vreset_dacunits(43,1) #1V\n",
    "# OUTPUT BASELINE\n",
    "chip.set_icasn_dacunits(0,1) #4.375nA # approx 1.084V at -3V backbias, 600mV at 0V backbias\n",
    "# INOUT RESET rate\n",
    "chip.set_ireset_dacunits(2,0,1) #270pA, HIGH LEAKAGE MODE, NORMAL SCALING, 0 = LOW LEAKAGE MODE, SCALING*0.01\n",
    "# OUTPUT RESET rate\n",
    "chip.set_ithr_dacunits(10,1) #680pA\n",
    "# BIASING OF THE DISCRIMINATOR (AND THE THRESHOLD)\n",
    "chip.set_idb_dacunits(40,1) #500nA\n",
    "# DC current of Amp, OUTPUT RISE TIME\n",
    "chip.set_ibias_dacunits(45,1) #500nA\n",
    "chip.write_conf()"
   ]
  },
  {
   "cell_type": "code",
   "execution_count": 17,
   "metadata": {},
   "outputs": [
    {
     "name": "stdout",
     "output_type": "stream",
     "text": [
      "Enable MASKH 50\n",
      "Got 152 hits, total noisy pixels: 1\n",
      "Enable MASKH 100\n",
      "Got 32485 hits, total noisy pixels: 5\n",
      "Enable MASKH 150\n",
      "Got 11 hits, total noisy pixels: 7\n",
      "Enable MASKH 200\n",
      "Got 24455 hits, total noisy pixels: 14\n",
      "Enable MASKH 223\n",
      "Got 4988 hits, total noisy pixels: 17\n",
      "Enable MASKV 50\n",
      "Got 2 hits, total noisy pixels: 17\n",
      "Enable MASKV 100\n",
      "Got 1 hits, total noisy pixels: 17\n",
      "Enable MASKV 111\n",
      "Got 2 hits, total noisy pixels: 17\n",
      "Enable MASKD 50\n",
      "Got 24 hits, total noisy pixels: 18\n",
      "Enable MASKD 100\n",
      "Got 1 hits, total noisy pixels: 18\n",
      "Enable MASKD 150\n",
      "Got 4 hits, total noisy pixels: 19\n",
      "Enable MASKD 200\n",
      "Got 3 hits, total noisy pixels: 20\n",
      "Enable MASKD 250\n",
      "Got 4 hits, total noisy pixels: 21\n",
      "Enable MASKD 300\n",
      "Got 2 hits, total noisy pixels: 22\n",
      "Enable MASKD 350\n",
      "Got 2 hits, total noisy pixels: 22\n",
      "Enable MASKD 400\n",
      "Got 1 hits, total noisy pixels: 22\n",
      "Enable MASKD 447\n",
      "Got 0 hits, total noisy pixels: 22\n",
      "Checking again after masking\n",
      "Got 2 hits, total noisy pixels: 22\n",
      "Noisy pixels: 22\n",
      "Enabled pixels: 25041\n",
      "Disabled pixels (noisy + unintentionally masked): 47\n"
     ]
    },
    {
     "data": {
      "image/png": "[encoded data removed]",
      "text/plain": [
       "<Figure size 432x288 with 1 Axes>"
      ]
     },
     "metadata": {
      "needs_background": "light"
     },
     "output_type": "display_data"
    }
   ],
   "source": [
    "#### enable pixels and mask noisy pixels\n",
    "chip.set_monoread()\n",
    "noisy=chip.auto_mask()\n",
    "\n",
    "mask=chip.get_pixel_status(mask=None,mode=\"all\")\n",
    "plt.imshow(chip.get_pixel_status(mask=mask,mode=\"preamp\")[3,:,:],\n",
    "           interpolation=\"none\",origin=\"bottomleft\")\n",
    "plt.title(\"Enabled pixel = yellow\");"
   ]
  },
  {
   "cell_type": "code",
   "execution_count": 6,
   "metadata": {},
   "outputs": [
    {
     "data": {
      "text/plain": [
       "{'BiasSF [V]': 1.063780512713872,\n",
       " 'BiasSF [mA]': 0.10059447096451782,\n",
       " 'VDDA OC': False,\n",
       " 'VDDA [V]': 1.7988631291291293,\n",
       " 'VDDA [mA]': 42.55267661693759,\n",
       " 'VDDA_DAC OC': False,\n",
       " 'VDDA_DAC [V]': 1.8045472377622378,\n",
       " 'VDDA_DAC [mA]': 2.502471747485684,\n",
       " 'VDDD OC': False,\n",
       " 'VDDD [V]': 1.8015140363636364,\n",
       " 'VDDD [mA]': 2.820288999038665e-08,\n",
       " 'VDDP OC': False,\n",
       " 'VDDP [V]': 1.8049802771084336,\n",
       " 'VDDP [mA]': 142.99917665269473,\n",
       " 'VPC [V]': 1.2998506463536463,\n",
       " 'VPC [mA]': -0.05949973257969578,\n",
       " 'VPCSWSF [V]': 0.5006537,\n",
       " 'VPCSWSF [mA]': -0.10305112752841207}"
      ]
     },
     "execution_count": 6,
     "metadata": {},
     "output_type": "execute_result"
    }
   ],
   "source": [
    "### check power status (VDDD < several mA, VDDP roughly 80mA)\n",
    "chip.get_power_status()"
   ]
  },
  {
   "cell_type": "code",
   "execution_count": 7,
   "metadata": {},
   "outputs": [
    {
     "name": "stdout",
     "output_type": "stream",
     "text": [
      "preamp of [4,50]: True\n",
      "inj of [4,50]: True\n",
      "hitor of [4,50]: False\n"
     ]
    }
   ],
   "source": [
    "### select one pixel\n",
    "col=4\n",
    "row=50\n",
    "chip.enable_injection(chip.fl_n, col, row)\n",
    "#chip.enable_pixel(chip.fl_n,col,row) \n",
    "#chip.enable_hitor(chip.fl_n,col,row)\n",
    "mask=chip.get_pixel_status(mask=None,mode=\"all\")\n",
    "print \"preamp of [%d,%d]:\"%(col,row),chip.get_pixel_status(mask=mask,mode=\"preamp\")[chip.fl_n, col, row]\n",
    "print \"inj of [%d,%d]:\"%(col,row),chip.get_pixel_status(mask=mask,mode=\"inj\")[chip.fl_n, col, row]\n",
    "print \"hitor of [%d,%d]:\"%(col,row),chip.get_pixel_status(mask=mask,mode=\"mon\")[chip.fl_n, col, row]"
   ]
  },
  {
   "cell_type": "code",
   "execution_count": 9,
   "metadata": {},
   "outputs": [
    {
     "name": "stderr",
     "output_type": "stream",
     "text": [
      "2022-03-29 18:19:08,759 [INFO ] (MainThread) vl = 1.00862204724V\n",
      "2022-03-29 18:19:08,780 [INFO ] (MainThread) vh = 1.50468503937V\n"
     ]
    },
    {
     "name": "stdout",
     "output_type": "stream",
     "text": [
      "n of data 1003\n",
      "(4, 50) 1000\n",
      "(108, 129) 2\n",
      "(56, 187) 1\n"
     ]
    }
   ],
   "source": [
    "### (optional) inject 1 pixel. it is good idea to run this once/twice.\n",
    "chip.set_inj_all(inj_n=1000,inj_phase=0)\n",
    "#chip.reset_ibias()\n",
    "chip.set_monoread()\n",
    "chip.inject()\n",
    "time.sleep(1)\n",
    "dat=chip.interpret_data(chip['fifo'].get_data())\n",
    "print \"n of data\", len(dat)\n",
    "if len(dat)!=0:\n",
    "    uni,cnt=np.unique(dat[[\"col\",'row']], return_counts=True)\n",
    "    arg=np.argsort(cnt)\n",
    "    for a in arg[::-1]:\n",
    "        print uni[a],cnt[a]"
   ]
  },
  {
   "cell_type": "code",
   "execution_count": 16,
   "metadata": {},
   "outputs": [
    {
     "name": "stderr",
     "output_type": "stream",
     "text": [
      "2022-03-29 18:26:44,131 [INFO ] (MainThread) idb = 20\n",
      "2022-03-29 18:26:44,145 [INFO ] (MainThread) idb = 367.5 nA\n",
      "2022-03-29 18:26:44,161 [INFO ] (MainThread) vl = 1.00862204724V\n",
      "2022-03-29 18:26:44,177 [INFO ] (MainThread) vh = 1.50468503937V\n",
      "2022-03-29 18:26:44,193 [INFO ] (MainThread) Initializing ThScan\n",
      "2022-03-29 18:26:44,747 [INFO ] (MainThread) Power status: {'VPC [V]': 1.2998506463536463, 'VDDA_DAC [mA]': 2.502471747485684, 'VDDP [V]': 1.8049802771084336, 'VDDP OC': False, 'VDDA [mA]': 41.53951765041918, 'VDDD [V]': 1.8015140363636364, 'VDDA_DAC OC': False, 'VDDD [mA]': 2.820288999038665e-08, 'VPCSWSF [V]': 0.5001542395802099, 'VDDP [mA]': 143.50269488026495, 'BiasSF [V]': 1.063780512713872, 'VDDD OC': False, 'VPC [mA]': -0.005499970466148282, 'VPCSWSF [mA]': 0.20860351421771073, 'VDDA [V]': 1.8068556096096098, 'VDDA OC': False, 'VDDA_DAC [V]': 1.8045472377622378, 'BiasSF [mA]': 0.10059447096451782}\n",
      "2022-03-29 18:26:44,832 [INFO ] (MainThread) Temperature (C): 30.482393\n",
      "2022-03-29 18:26:44,894 [INFO ] (MainThread) Temperature (C): 30.482393\n",
      "2022-03-29 18:26:44,963 [INFO ] (MainThread) Temperature (C): 30.645120\n",
      "2022-03-29 18:26:45,016 [INFO ] (MainThread) Temperature (C): 30.482393\n",
      "2022-03-29 18:26:45,094 [INFO ] (MainThread) Temperature (C): 30.482393\n",
      "2022-03-29 18:26:45,163 [INFO ] (MainThread) Temperature (C): 30.645120\n",
      "2022-03-29 18:26:45,232 [INFO ] (MainThread) Temperature (C): 30.462593\n",
      "2022-03-29 18:26:45,301 [INFO ] (MainThread) Temperature (C): 30.482393\n",
      "2022-03-29 18:26:45,364 [INFO ] (MainThread) Temperature (C): 30.482393\n",
      "2022-03-29 18:26:45,417 [INFO ] (MainThread) Temperature (C): 30.645120\n",
      "2022-03-29 18:26:45,431 [INFO ] (MainThread) Temperature: 30.5 C\n",
      "2022-03-29 18:26:45,516 [INFO ] (MainThread) Creating ZMQ context\n",
      "2022-03-29 18:26:45,532 [INFO ] (MainThread) Creating socket connection to server tcp://127.0.0.1:5500\n",
      "2022-03-29 18:26:45,548 [INFO ] (MainThread) ScanBase.start:data_send.data_send_init connected\n",
      "2022-03-29 18:26:47,569 [INFO ] (MainThread) Resetting SRAM FIFO: size = 0\n"
     ]
    },
    {
     "name": "stdout",
     "output_type": "stream",
     "text": [
      "sleeping\n"
     ]
    },
    {
     "name": "stderr",
     "output_type": "stream",
     "text": [
      "2022-03-29 18:26:48,040 [INFO ] (MainThread) Set timestamp: src=inj\n",
      "2022-03-29 18:26:48,673 [INFO ] (MainThread) Starting FIFO readout\n",
      "2022-03-29 18:26:50,845 [INFO ] (MainThread) Stopped FIFO readout\n",
      "2022-03-29 18:26:50,861 [INFO ] (MainThread) g=None, dat=171033\n",
      "2022-03-29 18:26:50,877 [INFO ] (MainThread) Recived words: 171033\n",
      "2022-03-29 18:26:50,892 [INFO ] (MainThread) Data queue size: 0\n",
      "2022-03-29 18:26:50,908 [INFO ] (MainThread) SRAM FIFO size: 0\n",
      "2022-03-29 18:26:50,930 [INFO ] (MainThread) Channel:                     TDC | DATA_RX | TLU | TIMESTAMP\n",
      "2022-03-29 18:26:50,947 [INFO ] (MainThread) Discard counter:             None |       0 |   0 |         0\n",
      "2022-03-29 18:26:51,516 [INFO ] (MainThread) Power status: {'VPC [V]': 1.2998506463536463, 'VDDA_DAC [mA]': 2.502471747485684, 'VDDP [V]': 1.8049802771084336, 'VDDP OC': False, 'VDDA [mA]': 41.53951765041918, 'VDDD [V]': 1.8015140363636364, 'VDDA_DAC OC': False, 'VDDD [mA]': 2.820288999038665e-08, 'VPCSWSF [V]': 0.5001542395802099, 'VDDP [mA]': 142.99917665269473, 'BiasSF [V]': 1.063780512713872, 'VDDD OC': False, 'VPC [mA]': 0.35199845463743, 'VPCSWSF [mA]': -0.1470729709853283, 'VDDA [V]': 1.8068556096096098, 'VDDA OC': False, 'VDDA_DAC [V]': 1.8045472377622378, 'BiasSF [mA]': 0.10059447096451782}\n",
      "2022-03-29 18:26:51,595 [INFO ] (MainThread) Temperature (C): 30.482393\n",
      "2022-03-29 18:26:51,647 [INFO ] (MainThread) Temperature (C): 30.482393\n",
      "2022-03-29 18:26:51,710 [INFO ] (MainThread) Temperature (C): 30.462593\n",
      "2022-03-29 18:26:51,779 [INFO ] (MainThread) Temperature (C): 30.482393\n",
      "2022-03-29 18:26:51,832 [INFO ] (MainThread) Temperature (C): 30.482393\n",
      "2022-03-29 18:26:51,894 [INFO ] (MainThread) Temperature (C): 30.462593\n",
      "2022-03-29 18:26:51,947 [INFO ] (MainThread) Temperature (C): 30.482393\n",
      "2022-03-29 18:26:52,009 [INFO ] (MainThread) Temperature (C): 30.625299\n",
      "2022-03-29 18:26:52,078 [INFO ] (MainThread) Temperature (C): 30.482393\n",
      "2022-03-29 18:26:52,132 [INFO ] (MainThread) Temperature (C): 30.482393\n",
      "2022-03-29 18:26:52,148 [INFO ] (MainThread) Temperature: 30.5 C\n",
      "2022-03-29 18:26:52,233 [INFO ] (MainThread) Closing socket connection\n"
     ]
    },
    {
     "name": "stdout",
     "output_type": "stream",
     "text": [
      "0 171032 100.000% 0.000s 57011hits 0errs\n",
      "data (inj_n 1000,inj_loop 35): INJ=35000 MONO=22011 MON=0\n",
      "0 57011 100.000% 1.003s 22011hits 0errs\n",
      "delete_noninjected from 22011 to 22011 to 22011 100.000 percent\n",
      "delete_cetainvalue from 22011 to 22011 100.000 percent\n",
      "fit mu=2.498e+02(12.4884DU) sigma=8.708e+00(0.4354DU)\n"
     ]
    },
    {
     "data": {
      "image/png": "[encoded data removed]",
      "text/plain": [
       "<Figure size 432x288 with 2 Axes>"
      ]
     },
     "metadata": {
      "needs_background": "light"
     },
     "output_type": "display_data"
    }
   ],
   "source": [
    "### S-curve\n",
    "chip.set_idb_dacunits(20,1) #500nA\n",
    "from tjmonopix.scans.injection_scan import InjectionScan\n",
    "reload(tjmonopix.scans.injection_scan)\n",
    "chip.set_inj_all(inj_n=1000,inj_phase=0)\n",
    "reload(th_scan)\n",
    "\n",
    "scan=th_scan.ThScan(chip)\n",
    "scan.start(rowlist=np.arange(row,row+1,1), ## list of rows\n",
    "           collist=np.arange(col,col+1,1), ## list of columns\n",
    "           n_mask_col=1,                   ## maximum number of columns which are injected at once\n",
    "           injlist=np.arange(0,35)        ## scan values of test pulse amplitude in DU\n",
    "          )                               ## do not change\n",
    "scan.analyze(scan.output_filename)\n",
    "scan.stop()\n",
    "fraw=scan.output_filename+'.h5'\n",
    "fev=fraw[:-7]+'ev.h5'\n",
    "\n",
    "with tb.open_file(fev) as f:\n",
    "    cnts=f.root.Cnts[:]\n",
    "    inj=f.root.ScurveFit.attrs.injlist\n",
    "    fit=f.root.ScurveFit[:]\n",
    "    tot = f.root.Hits.col(\"tot\")\n",
    "fig,ax=plt.subplots(ncols=1,nrows=1,sharey=True)\n",
    "ax=[ax]\n",
    "cnts=cnts[np.bitwise_and(cnts['col']==col,cnts['row']==row)]\n",
    "fit=fit[np.bitwise_and(fit['col']==col,fit['row']==row)][0]\n",
    "cnt=np.zeros(len(inj))\n",
    " \n",
    "tot = tot & 0x3F\n",
    "#tot=np.average((cnts[\"te\"]-cnts[\"le\"]) & 0x3F)\n",
    "#\n",
    "#x = chip['fifo'].get_data()\n",
    "#ix = chip.interpret_data(x)\n",
    "#ix_inj=ix[np.bitwise_and(ix[\"col\"]==col,ix[\"row\"]==row)]\n",
    "#print inj,len(ix),len(ix_inj),np.average((ix_inj[\"te\"]-ix_inj[\"le\"]) & 0x3F)\n",
    "#cnt[inj_i]=len(ix_inj)\n",
    "#tot[inj_i]=np.average((ix_inj[\"te\"]-ix_inj[\"le\"]) & 0x3F)\n",
    "#\n",
    "for c in cnts:\n",
    "    cnt[np.argwhere(inj==c[\"inj\"])[0][0]]=c['cnt']\n",
    "x,y=tjmonopix.analysis.utils.scurve_from_fit(th=inj,n=500,\n",
    "        reverse=False,A_fit=fit[\"A\"],mu_fit=fit[\"mu\"],sigma_fit=fit['sigma'])\n",
    "ax[0].plot(inj,cnt,\"o\")\n",
    "ax[0].plot(x,y,\"-\")\n",
    "ax2=ax[0].twiny()\n",
    "ax[0].set_xbound(np.min(inj),np.max(inj))\n",
    "ax2.set_xbound(np.min(inj)*DUtoe,np.max(inj)*DUtoe)\n",
    "ax[0].set_xlabel(\"Injection [DU]\")\n",
    "ax2.set_xlabel(\"Signal [e]\")\n",
    "print \"fit mu=%.3e(%.4fDU)\"%(fit[\"mu\"]*DUtoe,fit[\"mu\"]),\n",
    "print \"sigma=%.3e(%.4fDU)\"%(fit[\"sigma\"]*DUtoe,fit[\"sigma\"])\n",
    "\n",
    "\n",
    "#\n",
    "#ax3=ax.twinx()\n",
    "#ax3.plot(injlist,tot,\"C1x\",label=\"ToT\")"
   ]
  },
  {
   "cell_type": "code",
   "execution_count": 11,
   "metadata": {},
   "outputs": [
    {
     "name": "stderr",
     "output_type": "stream",
     "text": [
      "2022-03-29 17:39:05,809 [INFO ] (MainThread) idb = 80\n",
      "2022-03-29 17:39:05,825 [INFO ] (MainThread) idb = 1417.5 nA\n",
      "2022-03-29 17:39:05,842 [INFO ] (MainThread) vl = 1.00862204724V\n",
      "2022-03-29 17:39:05,858 [INFO ] (MainThread) vh = 1.50468503937V\n",
      "2022-03-29 17:39:05,875 [INFO ] (MainThread) Initializing ThScan\n",
      "2022-03-29 17:39:06,493 [INFO ] (MainThread) Power status: {'VPC [V]': 1.2998506463536463, 'VDDA_DAC [mA]': 2.502471747485684, 'VDDP [V]': 1.8059798142570278, 'VDDP OC': False, 'VDDA [mA]': 41.032938167159976, 'VDDD [V]': 1.8015140363636364, 'VDDA_DAC OC': False, 'VDDD [mA]': 2.820288999038665e-08, 'VPCSWSF [V]': 0.5001542395802099, 'VDDP [mA]': 143.50269488026495, 'BiasSF [V]': 1.063780512713872, 'VDDD OC': False, 'VPC [mA]': 0.019999917198582476, 'VPCSWSF [mA]': -0.03701836234303773, 'VDDA [V]': 1.7998621891891895, 'VDDA OC': False, 'VDDA_DAC [V]': 1.8045472377622378, 'BiasSF [mA]': 0.10109892318840588}\n",
      "2022-03-29 17:39:06,572 [INFO ] (MainThread) Temperature (C): 30.462593\n",
      "2022-03-29 17:39:06,625 [INFO ] (MainThread) Temperature (C): 30.462593\n",
      "2022-03-29 17:39:06,687 [INFO ] (MainThread) Temperature (C): 30.462593\n",
      "2022-03-29 17:39:06,756 [INFO ] (MainThread) Temperature (C): 30.605495\n",
      "2022-03-29 17:39:06,809 [INFO ] (MainThread) Temperature (C): 30.625299\n",
      "2022-03-29 17:39:06,875 [INFO ] (MainThread) Temperature (C): 30.462593\n",
      "2022-03-29 17:39:06,926 [INFO ] (MainThread) Temperature (C): 30.462593\n",
      "2022-03-29 17:39:06,987 [INFO ] (MainThread) Temperature (C): 30.605495\n",
      "2022-03-29 17:39:07,059 [INFO ] (MainThread) Temperature (C): 30.605495\n",
      "2022-03-29 17:39:07,125 [INFO ] (MainThread) Temperature (C): 30.442810\n",
      "2022-03-29 17:39:07,141 [INFO ] (MainThread) Temperature: 30.5 C\n",
      "2022-03-29 17:39:07,226 [INFO ] (MainThread) Creating ZMQ context\n",
      "2022-03-29 17:39:07,242 [INFO ] (MainThread) Creating socket connection to server tcp://127.0.0.1:5500\n",
      "2022-03-29 17:39:07,256 [INFO ] (MainThread) ScanBase.start:data_send.data_send_init connected\n",
      "2022-03-29 17:39:09,278 [INFO ] (MainThread) Resetting SRAM FIFO: size = 0\n"
     ]
    },
    {
     "name": "stdout",
     "output_type": "stream",
     "text": [
      "sleeping\n"
     ]
    },
    {
     "name": "stderr",
     "output_type": "stream",
     "text": [
      "2022-03-29 17:39:09,747 [INFO ] (MainThread) Set timestamp: src=inj\n",
      "2022-03-29 17:39:10,351 [INFO ] (MainThread) Starting FIFO readout\n",
      "2022-03-29 17:39:12,539 [INFO ] (MainThread) Stopped FIFO readout\n",
      "2022-03-29 17:39:12,555 [INFO ] (MainThread) g=None, dat=154764\n",
      "2022-03-29 17:39:12,571 [INFO ] (MainThread) Recived words: 154764\n",
      "2022-03-29 17:39:12,586 [INFO ] (MainThread) Data queue size: 0\n",
      "2022-03-29 17:39:12,601 [INFO ] (MainThread) SRAM FIFO size: 0\n",
      "2022-03-29 17:39:12,625 [INFO ] (MainThread) Channel:                     TDC | DATA_RX | TLU | TIMESTAMP\n",
      "2022-03-29 17:39:12,640 [INFO ] (MainThread) Discard counter:             None |       0 |   0 |         0\n",
      "2022-03-29 17:39:13,210 [INFO ] (MainThread) Power status: {'VPC [V]': 1.2993515804695306, 'VDDA_DAC [mA]': 2.502471747485684, 'VDDP [V]': 1.8049802771084336, 'VDDP OC': False, 'VDDA [mA]': 41.032938167159976, 'VDDD [V]': 1.8015140363636364, 'VDDA_DAC OC': False, 'VDDD [mA]': 2.820288999038665e-08, 'VPCSWSF [V]': 0.5001542395802099, 'VDDP [mA]': 143.50269488026495, 'BiasSF [V]': 1.063780512713872, 'VDDD OC': False, 'VPC [mA]': -0.049499776632742534, 'VPCSWSF [mA]': 0.061530537213922445, 'VDDA [V]': 1.7988631291291293, 'VDDA OC': False, 'VDDA_DAC [V]': 1.8045472377622378, 'BiasSF [mA]': 0.10059447096451782}\n",
      "2022-03-29 17:39:13,288 [INFO ] (MainThread) Temperature (C): 30.442810\n",
      "2022-03-29 17:39:13,345 [INFO ] (MainThread) Temperature (C): 30.605495\n",
      "2022-03-29 17:39:13,410 [INFO ] (MainThread) Temperature (C): 30.462593\n",
      "2022-03-29 17:39:13,471 [INFO ] (MainThread) Temperature (C): 30.442810\n",
      "2022-03-29 17:39:13,526 [INFO ] (MainThread) Temperature (C): 30.462593\n",
      "2022-03-29 17:39:13,588 [INFO ] (MainThread) Temperature (C): 30.462593\n",
      "2022-03-29 17:39:13,641 [INFO ] (MainThread) Temperature (C): 30.605495\n",
      "2022-03-29 17:39:13,703 [INFO ] (MainThread) Temperature (C): 30.442810\n",
      "2022-03-29 17:39:13,773 [INFO ] (MainThread) Temperature (C): 30.442810\n",
      "2022-03-29 17:39:13,825 [INFO ] (MainThread) Temperature (C): 30.605495\n",
      "2022-03-29 17:39:13,842 [INFO ] (MainThread) Temperature: 30.5 C\n",
      "2022-03-29 17:39:13,926 [INFO ] (MainThread) Closing socket connection\n"
     ]
    },
    {
     "name": "stdout",
     "output_type": "stream",
     "text": [
      "0 154763 100.000% 0.000s 51588hits 0errs\n",
      "data (inj_n 1000,inj_loop 35): INJ=35000 MONO=16588 MON=0\n",
      "0 51588 100.000% 0.786s 16588hits 0errs\n",
      "delete_noninjected from 16588 to 16588 to 16588 100.000 percent\n",
      "delete_cetainvalue from 16588 to 16588 100.000 percent\n",
      "fit mu=3.585e+02(17.9231DU) sigma=8.022e+00(0.4011DU)\n"
     ]
    },
    {
     "ename": "ValueError",
     "evalue": "x and y must have same first dimension, but have shapes (35L,) and (16588L,)",
     "output_type": "error",
     "traceback": [
      "\u001b[1;31m---------------------------------------------------------------------------\u001b[0m",
      "\u001b[1;31mValueError\u001b[0m                                Traceback (most recent call last)",
      "\u001b[1;32m<ipython-input-11-bf0e996f30b1>\u001b[0m in \u001b[0;36m<module>\u001b[1;34m()\u001b[0m\n\u001b[0;32m     44\u001b[0m \u001b[1;33m\u001b[0m\u001b[0m\n\u001b[0;32m     45\u001b[0m \u001b[0max3\u001b[0m\u001b[1;33m=\u001b[0m\u001b[0max\u001b[0m\u001b[1;33m[\u001b[0m\u001b[1;36m0\u001b[0m\u001b[1;33m]\u001b[0m\u001b[1;33m.\u001b[0m\u001b[0mtwinx\u001b[0m\u001b[1;33m(\u001b[0m\u001b[1;33m)\u001b[0m\u001b[1;33m\u001b[0m\u001b[0m\n\u001b[1;32m---> 46\u001b[1;33m \u001b[0max\u001b[0m\u001b[1;33m[\u001b[0m\u001b[1;36m0\u001b[0m\u001b[1;33m]\u001b[0m\u001b[1;33m.\u001b[0m\u001b[0mplot\u001b[0m\u001b[1;33m(\u001b[0m\u001b[0minj\u001b[0m\u001b[1;33m,\u001b[0m\u001b[0mtot\u001b[0m\u001b[1;33m,\u001b[0m\u001b[1;34m\"C1x\"\u001b[0m\u001b[1;33m,\u001b[0m\u001b[0mlabel\u001b[0m\u001b[1;33m=\u001b[0m\u001b[1;34m\"ToT\"\u001b[0m\u001b[1;33m)\u001b[0m\u001b[1;33m\u001b[0m\u001b[0m\n\u001b[0m",
      "\u001b[1;32mC:\\ProgramData\\Miniconda2\\lib\\site-packages\\matplotlib\\__init__.pyc\u001b[0m in \u001b[0;36minner\u001b[1;34m(ax, *args, **kwargs)\u001b[0m\n\u001b[0;32m   1865\u001b[0m                         \u001b[1;34m\"the Matplotlib list!)\"\u001b[0m \u001b[1;33m%\u001b[0m \u001b[1;33m(\u001b[0m\u001b[0mlabel_namer\u001b[0m\u001b[1;33m,\u001b[0m \u001b[0mfunc\u001b[0m\u001b[1;33m.\u001b[0m\u001b[0m__name__\u001b[0m\u001b[1;33m)\u001b[0m\u001b[1;33m,\u001b[0m\u001b[1;33m\u001b[0m\u001b[0m\n\u001b[0;32m   1866\u001b[0m                         RuntimeWarning, stacklevel=2)\n\u001b[1;32m-> 1867\u001b[1;33m             \u001b[1;32mreturn\u001b[0m \u001b[0mfunc\u001b[0m\u001b[1;33m(\u001b[0m\u001b[0max\u001b[0m\u001b[1;33m,\u001b[0m \u001b[1;33m*\u001b[0m\u001b[0margs\u001b[0m\u001b[1;33m,\u001b[0m \u001b[1;33m**\u001b[0m\u001b[0mkwargs\u001b[0m\u001b[1;33m)\u001b[0m\u001b[1;33m\u001b[0m\u001b[0m\n\u001b[0m\u001b[0;32m   1868\u001b[0m \u001b[1;33m\u001b[0m\u001b[0m\n\u001b[0;32m   1869\u001b[0m         inner.__doc__ = _add_data_doc(inner.__doc__,\n",
      "\u001b[1;32mC:\\ProgramData\\Miniconda2\\lib\\site-packages\\matplotlib\\axes\\_axes.pyc\u001b[0m in \u001b[0;36mplot\u001b[1;34m(self, *args, **kwargs)\u001b[0m\n\u001b[0;32m   1526\u001b[0m         \u001b[0mkwargs\u001b[0m \u001b[1;33m=\u001b[0m \u001b[0mcbook\u001b[0m\u001b[1;33m.\u001b[0m\u001b[0mnormalize_kwargs\u001b[0m\u001b[1;33m(\u001b[0m\u001b[0mkwargs\u001b[0m\u001b[1;33m,\u001b[0m \u001b[0m_alias_map\u001b[0m\u001b[1;33m)\u001b[0m\u001b[1;33m\u001b[0m\u001b[0m\n\u001b[0;32m   1527\u001b[0m \u001b[1;33m\u001b[0m\u001b[0m\n\u001b[1;32m-> 1528\u001b[1;33m         \u001b[1;32mfor\u001b[0m \u001b[0mline\u001b[0m \u001b[1;32min\u001b[0m \u001b[0mself\u001b[0m\u001b[1;33m.\u001b[0m\u001b[0m_get_lines\u001b[0m\u001b[1;33m(\u001b[0m\u001b[1;33m*\u001b[0m\u001b[0margs\u001b[0m\u001b[1;33m,\u001b[0m \u001b[1;33m**\u001b[0m\u001b[0mkwargs\u001b[0m\u001b[1;33m)\u001b[0m\u001b[1;33m:\u001b[0m\u001b[1;33m\u001b[0m\u001b[0m\n\u001b[0m\u001b[0;32m   1529\u001b[0m             \u001b[0mself\u001b[0m\u001b[1;33m.\u001b[0m\u001b[0madd_line\u001b[0m\u001b[1;33m(\u001b[0m\u001b[0mline\u001b[0m\u001b[1;33m)\u001b[0m\u001b[1;33m\u001b[0m\u001b[0m\n\u001b[0;32m   1530\u001b[0m             \u001b[0mlines\u001b[0m\u001b[1;33m.\u001b[0m\u001b[0mappend\u001b[0m\u001b[1;33m(\u001b[0m\u001b[0mline\u001b[0m\u001b[1;33m)\u001b[0m\u001b[1;33m\u001b[0m\u001b[0m\n",
      "\u001b[1;32mC:\\ProgramData\\Miniconda2\\lib\\site-packages\\matplotlib\\axes\\_base.pyc\u001b[0m in \u001b[0;36m_grab_next_args\u001b[1;34m(self, *args, **kwargs)\u001b[0m\n\u001b[0;32m    404\u001b[0m                 \u001b[0mthis\u001b[0m \u001b[1;33m+=\u001b[0m \u001b[0margs\u001b[0m\u001b[1;33m[\u001b[0m\u001b[1;36m0\u001b[0m\u001b[1;33m]\u001b[0m\u001b[1;33m,\u001b[0m\u001b[1;33m\u001b[0m\u001b[0m\n\u001b[0;32m    405\u001b[0m                 \u001b[0margs\u001b[0m \u001b[1;33m=\u001b[0m \u001b[0margs\u001b[0m\u001b[1;33m[\u001b[0m\u001b[1;36m1\u001b[0m\u001b[1;33m:\u001b[0m\u001b[1;33m]\u001b[0m\u001b[1;33m\u001b[0m\u001b[0m\n\u001b[1;32m--> 406\u001b[1;33m             \u001b[1;32mfor\u001b[0m \u001b[0mseg\u001b[0m \u001b[1;32min\u001b[0m \u001b[0mself\u001b[0m\u001b[1;33m.\u001b[0m\u001b[0m_plot_args\u001b[0m\u001b[1;33m(\u001b[0m\u001b[0mthis\u001b[0m\u001b[1;33m,\u001b[0m \u001b[0mkwargs\u001b[0m\u001b[1;33m)\u001b[0m\u001b[1;33m:\u001b[0m\u001b[1;33m\u001b[0m\u001b[0m\n\u001b[0m\u001b[0;32m    407\u001b[0m                 \u001b[1;32myield\u001b[0m \u001b[0mseg\u001b[0m\u001b[1;33m\u001b[0m\u001b[0m\n\u001b[0;32m    408\u001b[0m \u001b[1;33m\u001b[0m\u001b[0m\n",
      "\u001b[1;32mC:\\ProgramData\\Miniconda2\\lib\\site-packages\\matplotlib\\axes\\_base.pyc\u001b[0m in \u001b[0;36m_plot_args\u001b[1;34m(self, tup, kwargs)\u001b[0m\n\u001b[0;32m    381\u001b[0m             \u001b[0mx\u001b[0m\u001b[1;33m,\u001b[0m \u001b[0my\u001b[0m \u001b[1;33m=\u001b[0m \u001b[0mindex_of\u001b[0m\u001b[1;33m(\u001b[0m\u001b[0mtup\u001b[0m\u001b[1;33m[\u001b[0m\u001b[1;33m-\u001b[0m\u001b[1;36m1\u001b[0m\u001b[1;33m]\u001b[0m\u001b[1;33m)\u001b[0m\u001b[1;33m\u001b[0m\u001b[0m\n\u001b[0;32m    382\u001b[0m \u001b[1;33m\u001b[0m\u001b[0m\n\u001b[1;32m--> 383\u001b[1;33m         \u001b[0mx\u001b[0m\u001b[1;33m,\u001b[0m \u001b[0my\u001b[0m \u001b[1;33m=\u001b[0m \u001b[0mself\u001b[0m\u001b[1;33m.\u001b[0m\u001b[0m_xy_from_xy\u001b[0m\u001b[1;33m(\u001b[0m\u001b[0mx\u001b[0m\u001b[1;33m,\u001b[0m \u001b[0my\u001b[0m\u001b[1;33m)\u001b[0m\u001b[1;33m\u001b[0m\u001b[0m\n\u001b[0m\u001b[0;32m    384\u001b[0m \u001b[1;33m\u001b[0m\u001b[0m\n\u001b[0;32m    385\u001b[0m         \u001b[1;32mif\u001b[0m \u001b[0mself\u001b[0m\u001b[1;33m.\u001b[0m\u001b[0mcommand\u001b[0m \u001b[1;33m==\u001b[0m \u001b[1;34m'plot'\u001b[0m\u001b[1;33m:\u001b[0m\u001b[1;33m\u001b[0m\u001b[0m\n",
      "\u001b[1;32mC:\\ProgramData\\Miniconda2\\lib\\site-packages\\matplotlib\\axes\\_base.pyc\u001b[0m in \u001b[0;36m_xy_from_xy\u001b[1;34m(self, x, y)\u001b[0m\n\u001b[0;32m    240\u001b[0m         \u001b[1;32mif\u001b[0m \u001b[0mx\u001b[0m\u001b[1;33m.\u001b[0m\u001b[0mshape\u001b[0m\u001b[1;33m[\u001b[0m\u001b[1;36m0\u001b[0m\u001b[1;33m]\u001b[0m \u001b[1;33m!=\u001b[0m \u001b[0my\u001b[0m\u001b[1;33m.\u001b[0m\u001b[0mshape\u001b[0m\u001b[1;33m[\u001b[0m\u001b[1;36m0\u001b[0m\u001b[1;33m]\u001b[0m\u001b[1;33m:\u001b[0m\u001b[1;33m\u001b[0m\u001b[0m\n\u001b[0;32m    241\u001b[0m             raise ValueError(\"x and y must have same first dimension, but \"\n\u001b[1;32m--> 242\u001b[1;33m                              \"have shapes {} and {}\".format(x.shape, y.shape))\n\u001b[0m\u001b[0;32m    243\u001b[0m         \u001b[1;32mif\u001b[0m \u001b[0mx\u001b[0m\u001b[1;33m.\u001b[0m\u001b[0mndim\u001b[0m \u001b[1;33m>\u001b[0m \u001b[1;36m2\u001b[0m \u001b[1;32mor\u001b[0m \u001b[0my\u001b[0m\u001b[1;33m.\u001b[0m\u001b[0mndim\u001b[0m \u001b[1;33m>\u001b[0m \u001b[1;36m2\u001b[0m\u001b[1;33m:\u001b[0m\u001b[1;33m\u001b[0m\u001b[0m\n\u001b[0;32m    244\u001b[0m             raise ValueError(\"x and y can be no greater than 2-D, but have \"\n",
      "\u001b[1;31mValueError\u001b[0m: x and y must have same first dimension, but have shapes (35L,) and (16588L,)"
     ]
    },
    {
     "data": {
      "image/png": "[encoded data removed]",
      "text/plain": [
       "<Figure size 432x288 with 3 Axes>"
      ]
     },
     "metadata": {
      "needs_background": "light"
     },
     "output_type": "display_data"
    }
   ],
   "source": [
    "### S-curve\n",
    "chip.set_idb_dacunits(80,1) #500nA\n",
    "from tjmonopix.scans.injection_scan import InjectionScan\n",
    "reload(tjmonopix.scans.injection_scan)\n",
    "chip.set_inj_all(inj_n=1000,inj_phase=0)\n",
    "reload(th_scan)\n",
    "\n",
    "scan=th_scan.ThScan(chip)\n",
    "scan.start(rowlist=np.arange(row,row+1,1), ## list of rows\n",
    "           collist=np.arange(col,col+1,1), ## list of columns\n",
    "           n_mask_col=1,                   ## maximum number of columns which are injected at once\n",
    "           injlist=np.arange(0,35)        ## scan values of test pulse amplitude in DU\n",
    "          )                               ## do not change\n",
    "scan.analyze(scan.output_filename)\n",
    "scan.stop()\n",
    "fraw=scan.output_filename+'.h5'\n",
    "fev=fraw[:-7]+'ev.h5'\n",
    "\n",
    "with tb.open_file(fev) as f:\n",
    "    cnts=f.root.Cnts[:]\n",
    "    inj=f.root.ScurveFit.attrs.injlist\n",
    "    fit=f.root.ScurveFit[:]\n",
    "    tot = f.root.Hits.col(\"tot\")\n",
    "fig,ax=plt.subplots(ncols=1,nrows=1,sharey=True)\n",
    "ax=[ax]\n",
    "cnts=cnts[np.bitwise_and(cnts['col']==col,cnts['row']==row)]\n",
    "fit=fit[np.bitwise_and(fit['col']==col,fit['row']==row)][0]\n",
    "cnt=np.zeros(len(inj))\n",
    " \n",
    "tot = tot & 0x3F\n",
    "for c in cnts:\n",
    "    cnt[np.argwhere(inj==c[\"inj\"])[0][0]]=c['cnt']\n",
    "x,y=tjmonopix.analysis.utils.scurve_from_fit(th=inj,n=500,\n",
    "        reverse=False,A_fit=fit[\"A\"],mu_fit=fit[\"mu\"],sigma_fit=fit['sigma'])\n",
    "ax[0].plot(inj,cnt,\"o\")\n",
    "ax[0].plot(x,y,\"-\")\n",
    "ax2=ax[0].twiny()\n",
    "ax[0].set_xbound(np.min(inj),np.max(inj))\n",
    "ax2.set_xbound(np.min(inj)*DUtoe,np.max(inj)*DUtoe)\n",
    "ax[0].set_xlabel(\"Injection [DU]\")\n",
    "ax2.set_xlabel(\"Signal [e]\")\n",
    "print \"fit mu=%.3e(%.4fDU)\"%(fit[\"mu\"]*DUtoe,fit[\"mu\"]),\n",
    "print \"sigma=%.3e(%.4fDU)\"%(fit[\"sigma\"]*DUtoe,fit[\"sigma\"])\n",
    "\n",
    "ax3=ax[0].twinx()\n",
    "ax[0].plot(inj,tot,\"C1x\",label=\"ToT\")"
   ]
  },
  {
   "cell_type": "code",
   "execution_count": null,
   "metadata": {},
   "outputs": [],
   "source": [
    "## Threshold scan 1col=~1.5min\n",
    "chip.set_inj_all(inj_n=100,inj_phase=0)\n",
    "reload(th_scan)\n",
    "scan=th_scan.ThScan(chip)\n",
    "scan.start(rowlist= np.arange(0,10,1), ## list of rows\n",
    "           collist= [20], #np.arange(0,112,10), ## list of columns change here (0,112,1) for full scan\n",
    "           n_mask_col=1,                   ## max number of columns to be injected\n",
    "           injlist=np.arange(0,35),        ## scan values of test pulse amplitude in DU\n",
    "           debug=4)                        \n",
    "scan.analyze(scan.output_filename)\n",
    "scan.stop()\n",
    "fraw=scan.output_filename+'.h5'\n",
    "fev=fraw[:-7]+'ev.h5'"
   ]
  },
  {
   "cell_type": "code",
   "execution_count": null,
   "metadata": {},
   "outputs": [],
   "source": [
    "with tb.open_file(fev) as f:\n",
    "    cnts=f.root.Cnts[:]\n",
    "    inj=f.root.ScurveFit.attrs.injlist\n",
    "\n",
    "fig,ax=plt.subplots(ncols=1,nrows=1,sharey=True)\n",
    "hist=ax.hist2d(cnts['inj']*DUtoe,cnts['cnt'], bins=[inj*DUtoe,np.arange(100)],norm=norm)\n",
    "cb=fig.colorbar(hist[3], ax=ax)\n",
    "cb.set_label(\"# of pixels\")\n",
    "ax.set_ylabel(\"Count\")\n",
    "ax.set_xlabel(\"Signal [e]\");\n",
    "\n",
    "#Da controllare cosa viene salvato nella variabile Cnts della tabella root.Cnts. Problema già visto (soluzione possibile: controllare #dei tot)\n"
   ]
  },
  {
   "cell_type": "code",
   "execution_count": null,
   "metadata": {},
   "outputs": [],
   "source": [
    "with tb.open_file(fev) as f:\n",
    "    fit=f.root.ScurveFit[:]\n",
    "DUtoe=20.\n",
    "fig,ax=plt.subplots(ncols=2,nrows=1,sharey=True)\n",
    "ax[0].hist(fit['mu']*DUtoe,bins=np.arange(0,30,0.5)*DUtoe,histtype=\"step\")\n",
    "ax[1].hist(fit['sigma']*DUtoe,bins=np.arange(0,3,0.05)*DUtoe,histtype=\"step\")\n",
    "ax[0].set_ylabel(\"# of pix\")\n",
    "ax[0].set_xlabel(\"Threshold [e]\")\n",
    "ax[1].set_xlabel(\"ENC [e]\");"
   ]
  },
  {
   "cell_type": "code",
   "execution_count": null,
   "metadata": {},
   "outputs": [],
   "source": [
    "f.root\n"
   ]
  }
 ],
 "metadata": {
  "kernelspec": {
   "display_name": "Python 2",
   "language": "python",
   "name": "python2"
  },
  "language_info": {
   "codemirror_mode": {
    "name": "ipython",
    "version": 2
   },
   "file_extension": ".py",
   "mimetype": "text/x-python",
   "name": "python",
   "nbconvert_exporter": "python",
   "pygments_lexer": "ipython2",
   "version": "2.7.18"
  }
 },
 "nbformat": 4,
 "nbformat_minor": 2
}
